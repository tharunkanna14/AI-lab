{
  "nbformat": 4,
  "nbformat_minor": 0,
  "metadata": {
    "colab": {
      "name": "AI LAB 6(minimaxalgorithm).ipynb",
      "provenance": []
    },
    "kernelspec": {
      "name": "python3",
      "display_name": "Python 3"
    }
  },
  "cells": [
    {
      "cell_type": "code",
      "metadata": {
        "colab": {
          "base_uri": "https://localhost:8080/"
        },
        "id": "FmxSjo6a-_C4",
        "outputId": "dce87a5d-c8a2-4d1c-f5d3-974f81814e63"
      },
      "source": [
        "import math \r\n",
        "  \r\n",
        "def minimax (curDepth, nodeIndex, \r\n",
        "             maxTurn, scores,  \r\n",
        "             targetDepth): \r\n",
        "  \r\n",
        "    # base case : targetDepth reached \r\n",
        "    if (curDepth == targetDepth):  \r\n",
        "        return scores[nodeIndex] \r\n",
        "      \r\n",
        "    if (maxTurn): \r\n",
        "        return max(minimax(curDepth + 1, nodeIndex * 2,  \r\n",
        "                    False, scores, targetDepth),  \r\n",
        "                   minimax(curDepth + 1, nodeIndex * 2 + 1,  \r\n",
        "                    False, scores, targetDepth)) \r\n",
        "      \r\n",
        "    else: \r\n",
        "        return min(minimax(curDepth + 1, nodeIndex * 2,  \r\n",
        "                     True, scores, targetDepth),  \r\n",
        "                   minimax(curDepth + 1, nodeIndex * 2 + 1,  \r\n",
        "                     True, scores, targetDepth))  \r\n",
        "scores = [3, 5, 2, 9, 12, 5, 23, 21] \r\n",
        "  \r\n",
        "treeDepth = math.log(len(scores), 2) \r\n",
        "  \r\n",
        "print(\"The optimal value is : \", end = \"\") \r\n",
        "print(minimax(0, 0, True, scores, treeDepth)) "
      ],
      "execution_count": 10,
      "outputs": [
        {
          "output_type": "stream",
          "text": [
            "The optimal value is : 12\n"
          ],
          "name": "stdout"
        }
      ]
    }
  ]
}