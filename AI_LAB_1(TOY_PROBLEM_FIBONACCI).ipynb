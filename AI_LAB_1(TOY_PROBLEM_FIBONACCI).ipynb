{
  "nbformat": 4,
  "nbformat_minor": 0,
  "metadata": {
    "colab": {
      "name": "AI LAB 1(TOU PROBLEM FIBONACCI).ipynb",
      "provenance": [],
      "collapsed_sections": []
    },
    "kernelspec": {
      "name": "python3",
      "display_name": "Python 3"
    }
  },
  "cells": [
    {
      "cell_type": "code",
      "metadata": {
        "colab": {
          "base_uri": "https://localhost:8080/"
        },
        "id": "EEsdCCJ-oy23",
        "outputId": "def7a90d-0501-406c-d2a6-c0c32ce4111e"
      },
      "source": [
        "def fib  (n):\r\n",
        "     if n ==1 or n ==2:\r\n",
        "         return 1\r\n",
        "     return fib (n-1) + fib (n-2)\r\n",
        "print(\"Enter the number of series you want to print: \")\r\n",
        "a=int(input())\r\n",
        "print(\"The following are list of \",a,\"fibonacci series:\")\r\n",
        "for n in range(1, a+1):\r\n",
        "  print (fib(n))\r\n",
        "\r\n",
        "\r\n",
        "\r\n"
      ],
      "execution_count": 84,
      "outputs": [
        {
          "output_type": "stream",
          "text": [
            "Enter the number of series you want to print: \n",
            "5\n",
            "The following are list of  5 fibonacci series:\n",
            "1\n",
            "1\n",
            "2\n",
            "3\n",
            "5\n"
          ],
          "name": "stdout"
        }
      ]
    }
  ]
}