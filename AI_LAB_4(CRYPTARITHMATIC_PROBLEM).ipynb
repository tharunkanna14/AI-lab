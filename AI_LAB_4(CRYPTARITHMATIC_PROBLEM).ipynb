{
  "nbformat": 4,
  "nbformat_minor": 0,
  "metadata": {
    "colab": {
      "name": "AI LAB 4(CRYPTARITHMATIC PROBLEM).ipynb",
      "provenance": [],
      "collapsed_sections": []
    },
    "kernelspec": {
      "name": "python3",
      "display_name": "Python 3"
    }
  },
  "cells": [
    {
      "cell_type": "code",
      "metadata": {
        "colab": {
          "base_uri": "https://localhost:8080/"
        },
        "id": "SRIjX5LBcgIs",
        "outputId": "50be80f4-cacb-4404-9778-a06f36344b80"
      },
      "source": [
        "import time\r\n",
        "import itertools\r\n",
        "def timeit(fn):\r\n",
        "  def wrapper():\r\n",
        "    start = time.perf_counter()\r\n",
        "    ret = fn()\r\n",
        "    elapsed = time.perf_counter() - start\r\n",
        "    print(\"%s took %2.fs\" % (fn.__name__, elapsed))\r\n",
        "    return ret\r\n",
        "  return wrapper\r\n",
        "\r\n",
        "@timeit\r\n",
        "def solve1():\r\n",
        "  for s in range(1,10):\r\n",
        "    for e in range(0,10):\r\n",
        "      for n in range(0,10):\r\n",
        "        for d in range(0,10):\r\n",
        "          for m in range(1,10):\r\n",
        "            for o in range(0,10):\r\n",
        "              for r in range(0,10):\r\n",
        "                for y in range(0,10):\r\n",
        "                  if distinct(s,e,n,d,m,o,r,y):\r\n",
        "                    send = 1000*s + 100*e + 10*n + d\r\n",
        "                    more = 1000*m + 100*o + 10*r + e\r\n",
        "                    money = 10000*m + 1000*o + 100*n + 10*e + y\r\n",
        "                    if send + more == money:\r\n",
        "                      return send, more, money\r\n",
        "    \r\n",
        "def distinct(*args):\r\n",
        "  return len(set(args)) == len(args)\r\n",
        "\r\n",
        "@timeit\r\n",
        "def solve2():\r\n",
        "  letters = ('s','e','n','d','m','o','r','y')\r\n",
        "  digits = range(10)\r\n",
        "  for perm in itertools.permutations(digits, len(letters)):\r\n",
        "    sol = dict(zip(letters, perm))\r\n",
        "    if sol['s'] == 0 or sol['m'] == 0:\r\n",
        "      continue\r\n",
        "    send = 1000*sol['s'] + 100*sol['e'] + 10*sol['n'] + sol['d']\r\n",
        "    more = 1000*sol['m'] + 100*sol['o'] + 10*sol['r'] + sol['e']\r\n",
        "    money = 10000*sol['m'] + 1000*sol['o'] + 100*sol['n'] + 10*sol['e'] + sol['y']\r\n",
        "    if send + more == money:\r\n",
        "      return send, more, money\r\n",
        "\r\n",
        "print(solve1())\r\n",
        "print(solve2())\r\n"
      ],
      "execution_count": 25,
      "outputs": [
        {
          "output_type": "stream",
          "text": [
            "solve1 took 45s\n",
            "(9567, 1085, 10652)\n",
            "solve2 took  3s\n",
            "(9567, 1085, 10652)\n"
          ],
          "name": "stdout"
        }
      ]
    }
  ]
}