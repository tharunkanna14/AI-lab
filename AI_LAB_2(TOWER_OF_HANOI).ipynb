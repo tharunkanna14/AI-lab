{
  "nbformat": 4,
  "nbformat_minor": 0,
  "metadata": {
    "colab": {
      "name": "AI LAB 3(TOWER OF HANOI).ipynb",
      "provenance": [],
      "collapsed_sections": []
    },
    "kernelspec": {
      "name": "python3",
      "display_name": "Python 3"
    }
  },
  "cells": [
    {
      "cell_type": "code",
      "metadata": {
        "colab": {
          "base_uri": "https://localhost:8080/"
        },
        "id": "SRIjX5LBcgIs",
        "outputId": "443a82b7-a3c3-4042-cb47-56236dc63ffd"
      },
      "source": [
        "def TowerOfHanoi(n , source, destination, auxiliary): # Recursive function \r\n",
        "    if n==1: \r\n",
        "        print (\"Move disk 1 from source\",source,\"to destination\",destination) \r\n",
        "        return\r\n",
        "    TowerOfHanoi(n-1, source, auxiliary, destination) \r\n",
        "    print (\"Move disk\",n,\"from source\",source,\"to destination\",destination) \r\n",
        "    TowerOfHanoi(n-1, auxiliary, destination, source) \r\n",
        "          \r\n",
        "# Driver code \r\n",
        "n = int(input())\r\n",
        "TowerOfHanoi(n,'A','B','C')  "
      ],
      "execution_count": 17,
      "outputs": [
        {
          "output_type": "stream",
          "text": [
            "3\n",
            "Move disk 1 from source A to destination B\n",
            "Move disk 2 from source A to destination C\n",
            "Move disk 1 from source B to destination C\n",
            "Move disk 3 from source A to destination B\n",
            "Move disk 1 from source C to destination A\n",
            "Move disk 2 from source C to destination B\n",
            "Move disk 1 from source A to destination B\n"
          ],
          "name": "stdout"
        }
      ]
    }
  ]
}