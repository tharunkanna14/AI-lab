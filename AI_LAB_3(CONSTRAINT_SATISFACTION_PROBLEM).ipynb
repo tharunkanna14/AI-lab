{
  "nbformat": 4,
  "nbformat_minor": 0,
  "metadata": {
    "colab": {
      "name": "AI LAB 3(CONSTRAINT SATISFACTION PROBLEM).ipynb",
      "provenance": [],
      "collapsed_sections": []
    },
    "kernelspec": {
      "name": "python3",
      "display_name": "Python 3"
    }
  },
  "cells": [
    {
      "cell_type": "code",
      "metadata": {
        "colab": {
          "base_uri": "https://localhost:8080/"
        },
        "id": "EEsdCCJ-oy23",
        "outputId": "1732c447-f9f1-41ed-ea04-7294e28c793a"
      },
      "source": [
        "class Graph:\r\n",
        "  def __init__ (self, edges, N):\r\n",
        "    self.adj = [[] for _ in range(N)]\r\n",
        "\r\n",
        "    for (src, dest) in edges:\r\n",
        "      self.adj[src].append(dest) \r\n",
        "      self.adj[dest].append(src)\r\n",
        "\r\n",
        "\r\n",
        "def colorGraph(graph):\r\n",
        "  result = {}\r\n",
        "  for u in range(N):\r\n",
        "    assigned = set([result.get(i) for i in graph.adj[u] if i in result])\r\n",
        "    color = 1\r\n",
        "    for c in assigned:\r\n",
        "      if color != c:\r\n",
        "        break\r\n",
        "      color = color + 1\r\n",
        "    result[u] = color\r\n",
        "  for v in range(N):\r\n",
        "    print(\"Color assigned to vertex\", v, \"is\", colors[result[v]])\r\n",
        "\r\n",
        "\r\n",
        "colors = [\"\", \"BLUE\", \"GREEN\", \"RED\", \"YELLOW\", \"ORANGE\", \"PINK\", \"BLACK\", \"BROWN\", \"WHITE\", \"PURPLE\", \"VOILET\"]\r\n",
        "edges = [(0, 1), (0, 4), (0, 5), (4, 5), (1, 4), (1, 3), (2, 3), (2,4)]\r\n",
        "print(\"Enter total number of nodes: \")\r\n",
        "N = int(input())\r\n",
        "graph = Graph(edges,N)\r\n",
        "colorGraph(graph) \r\n"
      ],
      "execution_count": 71,
      "outputs": [
        {
          "output_type": "stream",
          "text": [
            "Enter total number of nodes: \n",
            "6\n",
            "Color assigned to vertex 0 is BLUE\n",
            "Color assigned to vertex 1 is GREEN\n",
            "Color assigned to vertex 2 is BLUE\n",
            "Color assigned to vertex 3 is RED\n",
            "Color assigned to vertex 4 is RED\n",
            "Color assigned to vertex 5 is GREEN\n"
          ],
          "name": "stdout"
        }
      ]
    }
  ]
}