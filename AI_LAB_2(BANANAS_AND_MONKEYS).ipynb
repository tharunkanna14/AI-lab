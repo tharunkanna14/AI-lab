{
  "nbformat": 4,
  "nbformat_minor": 0,
  "metadata": {
    "colab": {
      "name": "AI LAB 2(BANANAS AND MONKEYS).ipynb",
      "provenance": [],
      "collapsed_sections": []
    },
    "kernelspec": {
      "name": "python3",
      "display_name": "Python 3"
    }
  },
  "cells": [
    {
      "cell_type": "code",
      "metadata": {
        "colab": {
          "base_uri": "https://localhost:8080/"
        },
        "id": "SRIjX5LBcgIs",
        "outputId": "9ed50291-0c17-4ad3-bb83-8894ff401891"
      },
      "source": [
        "print(\"Enter the total: \")\r\n",
        "total=int(input())\r\n",
        "print(\"Enter the distance: \")\r\n",
        "distance=int(input()) \r\n",
        "print(\"Enter the Load Capacity: \")\r\n",
        "load_capacity=int(input()) \r\n",
        "print(\"Enter the Actual Loss: \")\r\n",
        "loss=int(input())\r\n",
        "start=total\r\n",
        "for i in range(distance):\r\n",
        "  while start>0:\r\n",
        "    start=start-load_capacity\r\n",
        "    if start==1:\r\n",
        "      loss=loss-1\r\n",
        "    loss=loss+2\r\n",
        "  loss=loss-1 \r\n",
        "  start=total-loss \r\n",
        "  if start==0:\r\n",
        "    break \r\n",
        "print(\"The total is: \",start)\r\n"
      ],
      "execution_count": 24,
      "outputs": [
        {
          "output_type": "stream",
          "text": [
            "Enter the total: \n",
            "3000\n",
            "Enter the distance: \n",
            "1000\n",
            "Enter the Load Capacity: \n",
            "1000\n",
            "Enter the Actual Loss: \n",
            "0\n",
            "The total is:  533\n"
          ],
          "name": "stdout"
        }
      ]
    }
  ]
}